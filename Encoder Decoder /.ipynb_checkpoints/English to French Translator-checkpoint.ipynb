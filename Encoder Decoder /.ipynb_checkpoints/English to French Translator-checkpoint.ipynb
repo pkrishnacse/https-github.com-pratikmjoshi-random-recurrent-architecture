{
 "cells": [
  {
   "cell_type": "code",
   "execution_count": 183,
   "metadata": {
    "collapsed": true
   },
   "outputs": [],
   "source": [
    "import numpy as np\n",
    "import pandas as pd\n",
    "\n",
    "data = pd.read_csv(\"fra.txt\",sep='\\t')\n",
    "data = data.sample(frac=1, replace=False)"
   ]
  },
  {
   "cell_type": "code",
   "execution_count": 184,
   "metadata": {},
   "outputs": [
    {
     "data": {
      "text/plain": [
       "10041"
      ]
     },
     "execution_count": 184,
     "metadata": {},
     "output_type": "execute_result"
    }
   ],
   "source": [
    "mask = (data['French'].str.len()<20) & (data['English'].str.len()<20)\n",
    "data=data.loc[mask]\n",
    "len(data)"
   ]
  },
  {
   "cell_type": "code",
   "execution_count": 185,
   "metadata": {},
   "outputs": [
    {
     "data": {
      "text/plain": [
       "10041"
      ]
     },
     "execution_count": 185,
     "metadata": {},
     "output_type": "execute_result"
    }
   ],
   "source": [
    "len(data)"
   ]
  },
  {
   "cell_type": "code",
   "execution_count": 186,
   "metadata": {},
   "outputs": [
    {
     "data": {
      "text/html": [
       "<div>\n",
       "<style scoped>\n",
       "    .dataframe tbody tr th:only-of-type {\n",
       "        vertical-align: middle;\n",
       "    }\n",
       "\n",
       "    .dataframe tbody tr th {\n",
       "        vertical-align: top;\n",
       "    }\n",
       "\n",
       "    .dataframe thead th {\n",
       "        text-align: right;\n",
       "    }\n",
       "</style>\n",
       "<table border=\"1\" class=\"dataframe\">\n",
       "  <thead>\n",
       "    <tr style=\"text-align: right;\">\n",
       "      <th></th>\n",
       "      <th>English</th>\n",
       "      <th>French</th>\n",
       "    </tr>\n",
       "  </thead>\n",
       "  <tbody>\n",
       "  </tbody>\n",
       "</table>\n",
       "</div>"
      ],
      "text/plain": [
       "Empty DataFrame\n",
       "Columns: [English, French]\n",
       "Index: []"
      ]
     },
     "execution_count": 186,
     "metadata": {},
     "output_type": "execute_result"
    }
   ],
   "source": [
    "temp = data.loc[(data['English'].str.len()>50)]\n",
    "temp"
   ]
  },
  {
   "cell_type": "code",
   "execution_count": 187,
   "metadata": {
    "collapsed": true
   },
   "outputs": [],
   "source": [
    "data['French'] = data['French'].apply(lambda x:'\\t' + x + '\\n')"
   ]
  },
  {
   "cell_type": "code",
   "execution_count": 188,
   "metadata": {
    "collapsed": true
   },
   "outputs": [],
   "source": [
    "input_chars = set()\n",
    "output_chars = set()\n",
    "for index,row in data.iterrows():\n",
    "    for character in row['English']:\n",
    "        input_chars.add(character)\n",
    "    for character in row['French']:\n",
    "        output_chars.add(character)"
   ]
  },
  {
   "cell_type": "code",
   "execution_count": 189,
   "metadata": {},
   "outputs": [
    {
     "data": {
      "text/plain": [
       "72"
      ]
     },
     "execution_count": 189,
     "metadata": {},
     "output_type": "execute_result"
    }
   ],
   "source": [
    "len(input_chars)"
   ]
  },
  {
   "cell_type": "code",
   "execution_count": 190,
   "metadata": {},
   "outputs": [
    {
     "data": {
      "text/plain": [
       "98"
      ]
     },
     "execution_count": 190,
     "metadata": {},
     "output_type": "execute_result"
    }
   ],
   "source": [
    "len(output_chars)"
   ]
  },
  {
   "cell_type": "code",
   "execution_count": 191,
   "metadata": {},
   "outputs": [
    {
     "data": {
      "text/plain": [
       "98"
      ]
     },
     "execution_count": 191,
     "metadata": {},
     "output_type": "execute_result"
    }
   ],
   "source": [
    "len(output_chars)"
   ]
  },
  {
   "cell_type": "code",
   "execution_count": 192,
   "metadata": {
    "collapsed": true
   },
   "outputs": [],
   "source": [
    "input_chars = sorted(input_chars)\n",
    "output_chars = sorted(output_chars)"
   ]
  },
  {
   "cell_type": "code",
   "execution_count": 193,
   "metadata": {
    "collapsed": true
   },
   "outputs": [],
   "source": [
    "num_encoder_tokens = len(input_chars)\n",
    "num_decoder_tokens = len(output_chars)"
   ]
  },
  {
   "cell_type": "code",
   "execution_count": 194,
   "metadata": {
    "collapsed": true
   },
   "outputs": [],
   "source": [
    "max_encoder_seq_len = max([len(text) for text in data['English']])\n",
    "max_decoder_seq_len = max([len(text) for text in data['French']])\n",
    "max_len = max(max_encoder_seq_len,max_decoder_seq_len)"
   ]
  },
  {
   "cell_type": "code",
   "execution_count": 195,
   "metadata": {},
   "outputs": [
    {
     "data": {
      "text/plain": [
       "(19, 21)"
      ]
     },
     "execution_count": 195,
     "metadata": {},
     "output_type": "execute_result"
    }
   ],
   "source": [
    "max_encoder_seq_len,max_decoder_seq_len"
   ]
  },
  {
   "cell_type": "code",
   "execution_count": 196,
   "metadata": {
    "collapsed": true
   },
   "outputs": [],
   "source": [
    "input_token_index = dict([(char, i) for i, char in enumerate(input_chars)])\n",
    "output_token_index = dict([(char, i) for i, char in enumerate(output_chars)])"
   ]
  },
  {
   "cell_type": "code",
   "execution_count": 197,
   "metadata": {
    "collapsed": true
   },
   "outputs": [],
   "source": [
    "encoder_input_data = np.zeros((len(data['English']), max_len, num_encoder_tokens),dtype='float32')\n",
    "decoder_input_data = np.zeros((len(data['English']), max_len, num_decoder_tokens),dtype='float32')\n",
    "decoder_target_data = np.zeros((len(data['French']), max_len, num_decoder_tokens),dtype='float32')"
   ]
  },
  {
   "cell_type": "code",
   "execution_count": 198,
   "metadata": {
    "collapsed": true
   },
   "outputs": [],
   "source": [
    "input_texts = data['English'].tolist()\n",
    "output_texts = data['French'].tolist()"
   ]
  },
  {
   "cell_type": "code",
   "execution_count": 199,
   "metadata": {},
   "outputs": [
    {
     "data": {
      "text/plain": [
       "{'\\t': 0,\n",
       " '\\n': 1,\n",
       " ' ': 2,\n",
       " '!': 3,\n",
       " '$': 4,\n",
       " '&': 5,\n",
       " \"'\": 6,\n",
       " '(': 7,\n",
       " ')': 8,\n",
       " ',': 9,\n",
       " '-': 10,\n",
       " '.': 11,\n",
       " '0': 12,\n",
       " '1': 13,\n",
       " '2': 14,\n",
       " '3': 15,\n",
       " '4': 16,\n",
       " '5': 17,\n",
       " '6': 18,\n",
       " '7': 19,\n",
       " '8': 20,\n",
       " '9': 21,\n",
       " '?': 22,\n",
       " 'A': 23,\n",
       " 'B': 24,\n",
       " 'C': 25,\n",
       " 'D': 26,\n",
       " 'E': 27,\n",
       " 'F': 28,\n",
       " 'G': 29,\n",
       " 'H': 30,\n",
       " 'I': 31,\n",
       " 'J': 32,\n",
       " 'K': 33,\n",
       " 'L': 34,\n",
       " 'M': 35,\n",
       " 'N': 36,\n",
       " 'O': 37,\n",
       " 'P': 38,\n",
       " 'Q': 39,\n",
       " 'R': 40,\n",
       " 'S': 41,\n",
       " 'T': 42,\n",
       " 'U': 43,\n",
       " 'V': 44,\n",
       " 'W': 45,\n",
       " 'X': 46,\n",
       " 'Y': 47,\n",
       " 'Z': 48,\n",
       " 'a': 49,\n",
       " 'b': 50,\n",
       " 'c': 51,\n",
       " 'd': 52,\n",
       " 'e': 53,\n",
       " 'f': 54,\n",
       " 'g': 55,\n",
       " 'h': 56,\n",
       " 'i': 57,\n",
       " 'j': 58,\n",
       " 'k': 59,\n",
       " 'l': 60,\n",
       " 'm': 61,\n",
       " 'n': 62,\n",
       " 'o': 63,\n",
       " 'p': 64,\n",
       " 'q': 65,\n",
       " 'r': 66,\n",
       " 's': 67,\n",
       " 't': 68,\n",
       " 'u': 69,\n",
       " 'v': 70,\n",
       " 'w': 71,\n",
       " 'x': 72,\n",
       " 'y': 73,\n",
       " 'z': 74,\n",
       " '\\xa0': 75,\n",
       " 'À': 76,\n",
       " 'Ç': 77,\n",
       " 'É': 78,\n",
       " 'Ê': 79,\n",
       " 'Ô': 80,\n",
       " 'à': 81,\n",
       " 'â': 82,\n",
       " 'ç': 83,\n",
       " 'è': 84,\n",
       " 'é': 85,\n",
       " 'ê': 86,\n",
       " 'ë': 87,\n",
       " 'î': 88,\n",
       " 'ï': 89,\n",
       " 'ô': 90,\n",
       " 'ù': 91,\n",
       " 'û': 92,\n",
       " 'œ': 93,\n",
       " '\\u2009': 94,\n",
       " '‘': 95,\n",
       " '’': 96,\n",
       " '\\u202f': 97}"
      ]
     },
     "execution_count": 199,
     "metadata": {},
     "output_type": "execute_result"
    }
   ],
   "source": [
    "output_token_index"
   ]
  },
  {
   "cell_type": "code",
   "execution_count": 200,
   "metadata": {},
   "outputs": [
    {
     "data": {
      "text/plain": [
       "'for i, (input_text, output_text) in enumerate(zip(input_texts, output_texts)):\\n    for t, char in enumerate(input_text):\\n        if t<50:\\n            encoder_input_data[i, t, input_token_index[char]] = 1.\\n    for t, char in enumerate(output_text):\\n        # decoder_target_data is ahead of decoder_input_data by one timestep\\n        decoder_input_data[i, t, output_token_index[char]] = 1.\\n        if t > 0 & t<=50:\\n            # decoder_target_data will be ahead by one timestep\\n            # and will not include the start character.\\n            decoder_target_data[i, t - 1, output_token_index[char]] = 1.\\n'"
      ]
     },
     "execution_count": 200,
     "metadata": {},
     "output_type": "execute_result"
    }
   ],
   "source": [
    "'''for i, (input_text, output_text) in enumerate(zip(input_texts, output_texts)):\n",
    "    for t, char in enumerate(input_text):\n",
    "        if t<50:\n",
    "            encoder_input_data[i, t, input_token_index[char]] = 1.\n",
    "    for t, char in enumerate(output_text):\n",
    "        # decoder_target_data is ahead of decoder_input_data by one timestep\n",
    "        decoder_input_data[i, t, output_token_index[char]] = 1.\n",
    "        if t > 0 & t<=50:\n",
    "            # decoder_target_data will be ahead by one timestep\n",
    "            # and will not include the start character.\n",
    "            decoder_target_data[i, t - 1, output_token_index[char]] = 1.\n",
    "'''"
   ]
  },
  {
   "cell_type": "code",
   "execution_count": 201,
   "metadata": {
    "collapsed": true
   },
   "outputs": [],
   "source": [
    "for i, (input_text, output_text) in enumerate(zip(input_texts, output_texts)):\n",
    "    for t, char in enumerate(input_text):\n",
    "            encoder_input_data[i, t, input_token_index[char]] = 1.\n",
    "    for t, char in enumerate(output_text):\n",
    "            decoder_target_data[i, t, output_token_index[char]] = 1.\n"
   ]
  },
  {
   "cell_type": "code",
   "execution_count": 202,
   "metadata": {},
   "outputs": [
    {
     "data": {
      "text/plain": [
       "'from keras.models import Model\\nfrom keras.layers import Input, LSTM, Dense\\nbatch_size = 64  # Batch size for training.\\nepochs = 50  # Number of epochs to train for.\\nlatent_dim = 64  # Latent dimensionality of the encoding space.'"
      ]
     },
     "execution_count": 202,
     "metadata": {},
     "output_type": "execute_result"
    }
   ],
   "source": [
    "'''from keras.models import Model\n",
    "from keras.layers import Input, LSTM, Dense\n",
    "batch_size = 64  # Batch size for training.\n",
    "epochs = 50  # Number of epochs to train for.\n",
    "latent_dim = 64  # Latent dimensionality of the encoding space.'''"
   ]
  },
  {
   "cell_type": "code",
   "execution_count": 203,
   "metadata": {},
   "outputs": [
    {
     "data": {
      "text/plain": [
       "'encoder_inputs = Input(shape=(None, num_encoder_tokens))\\nencoder = LSTM(latent_dim, return_state=True)\\nencoder_outputs, state_h, state_c = encoder(encoder_inputs)\\n\\nencoder_states = [state_h, state_c]\\n'"
      ]
     },
     "execution_count": 203,
     "metadata": {},
     "output_type": "execute_result"
    }
   ],
   "source": [
    "'''encoder_inputs = Input(shape=(None, num_encoder_tokens))\n",
    "encoder = LSTM(latent_dim, return_state=True)\n",
    "encoder_outputs, state_h, state_c = encoder(encoder_inputs)\n",
    "\n",
    "encoder_states = [state_h, state_c]\n",
    "'''"
   ]
  },
  {
   "cell_type": "code",
   "execution_count": 204,
   "metadata": {},
   "outputs": [
    {
     "data": {
      "text/plain": [
       "\"# Set up the decoder, using `encoder_states` as initial state.\\ndecoder_inputs = Input(shape=(None, num_decoder_tokens))\\n# We set up our decoder to return full output sequences,\\n# and to return internal states as well. We don't use the \\n# return states in the training model, but we will use them in inference.\\ndecoder_lstm = AttentionDecoder(latent_dim, output_dim=30)\\ndecoder_outputs, _, _ = decoder_lstm(decoder_inputs,\\n                                     initial_state=encoder_states)\\ndecoder_dense = Dense(num_decoder_tokens, activation='softmax')\\ndecoder_outputs = decoder_dense(decoder_outputs)\\n\\n# Define the model that will turn\\n# `encoder_input_data` & `decoder_input_data` into `decoder_target_data`\\nmodel = Model([encoder_inputs, decoder_inputs], decoder_outputs)\""
      ]
     },
     "execution_count": 204,
     "metadata": {},
     "output_type": "execute_result"
    }
   ],
   "source": [
    "'''# Set up the decoder, using `encoder_states` as initial state.\n",
    "decoder_inputs = Input(shape=(None, num_decoder_tokens))\n",
    "# We set up our decoder to return full output sequences,\n",
    "# and to return internal states as well. We don't use the \n",
    "# return states in the training model, but we will use them in inference.\n",
    "decoder_lstm = AttentionDecoder(latent_dim, output_dim=30)\n",
    "decoder_outputs, _, _ = decoder_lstm(decoder_inputs,\n",
    "                                     initial_state=encoder_states)\n",
    "decoder_dense = Dense(num_decoder_tokens, activation='softmax')\n",
    "decoder_outputs = decoder_dense(decoder_outputs)\n",
    "\n",
    "# Define the model that will turn\n",
    "# `encoder_input_data` & `decoder_input_data` into `decoder_target_data`\n",
    "model = Model([encoder_inputs, decoder_inputs], decoder_outputs)'''"
   ]
  },
  {
   "cell_type": "code",
   "execution_count": 205,
   "metadata": {},
   "outputs": [
    {
     "data": {
      "text/plain": [
       "((10041, 21, 72), (10041, 21, 98))"
      ]
     },
     "execution_count": 205,
     "metadata": {},
     "output_type": "execute_result"
    }
   ],
   "source": [
    "encoder_input_data.shape,decoder_target_data.shape"
   ]
  },
  {
   "cell_type": "code",
   "execution_count": 206,
   "metadata": {},
   "outputs": [],
   "source": [
    "from keras.models import Sequential\n",
    "from keras.layers import LSTM\n",
    "from attention_decoder import AttentionDecoder"
   ]
  },
  {
   "cell_type": "code",
   "execution_count": 207,
   "metadata": {
    "collapsed": true
   },
   "outputs": [],
   "source": [
    "model = Sequential()\n",
    "model.add(LSTM(150,input_shape=(max_len,num_encoder_tokens),return_sequences=True))\n",
    "model.add(AttentionDecoder(21,num_decoder_tokens))\n",
    "model.compile(loss='categorical_crossentropy', optimizer='adam', metrics=['acc'])"
   ]
  },
  {
   "cell_type": "code",
   "execution_count": 223,
   "metadata": {},
   "outputs": [
    {
     "name": "stdout",
     "output_type": "stream",
     "text": [
      "Train on 8032 samples, validate on 2009 samples\n",
      "Epoch 1/200\n",
      "8032/8032 [==============================] - 21s 3ms/step - loss: 1.2220 - acc: 0.4791 - val_loss: 1.9120 - val_acc: 0.3592\n",
      "Epoch 2/200\n",
      "8032/8032 [==============================] - 21s 3ms/step - loss: 1.2156 - acc: 0.4803 - val_loss: 1.9245 - val_acc: 0.3563\n",
      "Epoch 3/200\n",
      "8032/8032 [==============================] - 21s 3ms/step - loss: 1.2183 - acc: 0.4801 - val_loss: 1.9295 - val_acc: 0.3595\n",
      "Epoch 4/200\n",
      "8032/8032 [==============================] - 21s 3ms/step - loss: 1.2141 - acc: 0.4812 - val_loss: 1.9215 - val_acc: 0.3573\n",
      "Epoch 5/200\n",
      "8032/8032 [==============================] - 21s 3ms/step - loss: 1.2049 - acc: 0.4839 - val_loss: 1.9117 - val_acc: 0.3595\n",
      "Epoch 6/200\n",
      "8032/8032 [==============================] - 21s 3ms/step - loss: 1.1992 - acc: 0.4850 - val_loss: 1.9261 - val_acc: 0.3581\n",
      "Epoch 7/200\n",
      "8032/8032 [==============================] - 21s 3ms/step - loss: 1.2020 - acc: 0.4854 - val_loss: 1.9187 - val_acc: 0.3581\n",
      "Epoch 8/200\n",
      "8032/8032 [==============================] - 21s 3ms/step - loss: 1.1978 - acc: 0.4856 - val_loss: 1.9310 - val_acc: 0.3611\n",
      "Epoch 9/200\n",
      "8032/8032 [==============================] - 21s 3ms/step - loss: 1.2110 - acc: 0.4818 - val_loss: 1.9142 - val_acc: 0.3583\n",
      "Epoch 10/200\n",
      "8032/8032 [==============================] - 21s 3ms/step - loss: 1.2169 - acc: 0.4803 - val_loss: 1.9131 - val_acc: 0.3565\n",
      "Epoch 11/200\n",
      "8032/8032 [==============================] - 21s 3ms/step - loss: 1.2029 - acc: 0.4850 - val_loss: 1.9146 - val_acc: 0.3582\n",
      "Epoch 12/200\n",
      "8032/8032 [==============================] - 21s 3ms/step - loss: 1.1938 - acc: 0.4867 - val_loss: 1.9262 - val_acc: 0.3570\n",
      "Epoch 13/200\n",
      "8032/8032 [==============================] - 21s 3ms/step - loss: 1.1992 - acc: 0.4855 - val_loss: 1.9228 - val_acc: 0.3582\n",
      "Epoch 14/200\n",
      "8032/8032 [==============================] - 21s 3ms/step - loss: 1.2194 - acc: 0.4795 - val_loss: 1.9336 - val_acc: 0.3576\n",
      "Epoch 15/200\n",
      "8032/8032 [==============================] - 21s 3ms/step - loss: 1.2157 - acc: 0.4817 - val_loss: 1.9362 - val_acc: 0.3609\n",
      "Epoch 16/200\n",
      "8032/8032 [==============================] - 21s 3ms/step - loss: 1.1932 - acc: 0.4867 - val_loss: 1.9471 - val_acc: 0.3607\n",
      "Epoch 17/200\n",
      "8032/8032 [==============================] - 22s 3ms/step - loss: 1.1871 - acc: 0.4888 - val_loss: 1.9214 - val_acc: 0.3573\n",
      "Epoch 18/200\n",
      "8032/8032 [==============================] - 21s 3ms/step - loss: 1.1982 - acc: 0.4850 - val_loss: 1.9461 - val_acc: 0.3556\n",
      "Epoch 19/200\n",
      "8032/8032 [==============================] - 21s 3ms/step - loss: 1.2111 - acc: 0.4817 - val_loss: 1.9594 - val_acc: 0.3554\n",
      "Epoch 20/200\n",
      "8032/8032 [==============================] - 21s 3ms/step - loss: 1.1910 - acc: 0.4876 - val_loss: 1.9459 - val_acc: 0.3580\n",
      "Epoch 21/200\n",
      "8032/8032 [==============================] - 21s 3ms/step - loss: 1.1758 - acc: 0.4922 - val_loss: 1.9447 - val_acc: 0.3559\n",
      "Epoch 22/200\n",
      "8032/8032 [==============================] - 21s 3ms/step - loss: 1.1748 - acc: 0.4920 - val_loss: 1.9566 - val_acc: 0.3594\n",
      "Epoch 23/200\n",
      "8032/8032 [==============================] - 21s 3ms/step - loss: 1.1863 - acc: 0.4887 - val_loss: 1.9379 - val_acc: 0.3602\n",
      "Epoch 24/200\n",
      "8032/8032 [==============================] - 21s 3ms/step - loss: 1.1887 - acc: 0.4878 - val_loss: 1.9491 - val_acc: 0.3560\n",
      "Epoch 25/200\n",
      "8032/8032 [==============================] - 21s 3ms/step - loss: 1.2040 - acc: 0.4827 - val_loss: 1.9407 - val_acc: 0.3571\n",
      "Epoch 26/200\n",
      "8032/8032 [==============================] - 21s 3ms/step - loss: 1.1990 - acc: 0.4851 - val_loss: 1.9407 - val_acc: 0.3568\n",
      "Epoch 27/200\n",
      "8032/8032 [==============================] - 21s 3ms/step - loss: 1.1712 - acc: 0.4930 - val_loss: 1.9578 - val_acc: 0.3588\n",
      "Epoch 28/200\n",
      "8032/8032 [==============================] - 21s 3ms/step - loss: 1.1745 - acc: 0.4925 - val_loss: 1.9441 - val_acc: 0.3548\n",
      "Epoch 29/200\n",
      "8032/8032 [==============================] - 21s 3ms/step - loss: 1.1771 - acc: 0.4914 - val_loss: 1.9520 - val_acc: 0.3593\n",
      "Epoch 30/200\n",
      "8032/8032 [==============================] - 21s 3ms/step - loss: 1.1644 - acc: 0.4946 - val_loss: 1.9592 - val_acc: 0.3571\n",
      "Epoch 31/200\n",
      "8032/8032 [==============================] - 21s 3ms/step - loss: 1.1805 - acc: 0.4899 - val_loss: 1.9484 - val_acc: 0.3575\n",
      "Epoch 32/200\n",
      "8032/8032 [==============================] - 21s 3ms/step - loss: 1.1777 - acc: 0.4909 - val_loss: 1.9673 - val_acc: 0.3573\n",
      "Epoch 33/200\n",
      "8032/8032 [==============================] - 21s 3ms/step - loss: 1.1751 - acc: 0.4921 - val_loss: 1.9495 - val_acc: 0.3577\n",
      "Epoch 34/200\n",
      "8032/8032 [==============================] - 23s 3ms/step - loss: 1.1806 - acc: 0.4898 - val_loss: 1.9622 - val_acc: 0.3591\n",
      "Epoch 35/200\n",
      "8032/8032 [==============================] - 23s 3ms/step - loss: 1.1733 - acc: 0.4934 - val_loss: 1.9504 - val_acc: 0.3594\n",
      "Epoch 36/200\n",
      "8032/8032 [==============================] - 21s 3ms/step - loss: 1.1591 - acc: 0.4965 - val_loss: 1.9618 - val_acc: 0.3606\n",
      "Epoch 37/200\n",
      "8032/8032 [==============================] - 21s 3ms/step - loss: 1.1639 - acc: 0.4952 - val_loss: 1.9670 - val_acc: 0.3576\n",
      "Epoch 38/200\n",
      "8032/8032 [==============================] - 21s 3ms/step - loss: 1.1555 - acc: 0.4979 - val_loss: 1.9545 - val_acc: 0.3561\n",
      "Epoch 39/200\n",
      "8032/8032 [==============================] - 21s 3ms/step - loss: 1.1807 - acc: 0.4918 - val_loss: 1.9769 - val_acc: 0.3567\n",
      "Epoch 40/200\n",
      "8032/8032 [==============================] - 21s 3ms/step - loss: 1.1762 - acc: 0.4927 - val_loss: 1.9594 - val_acc: 0.3586\n",
      "Epoch 41/200\n",
      "8032/8032 [==============================] - 21s 3ms/step - loss: 1.1539 - acc: 0.4984 - val_loss: 1.9760 - val_acc: 0.3582\n",
      "Epoch 42/200\n",
      "8032/8032 [==============================] - 21s 3ms/step - loss: 1.1678 - acc: 0.4945 - val_loss: 1.9744 - val_acc: 0.3589\n",
      "Epoch 43/200\n",
      "8032/8032 [==============================] - 21s 3ms/step - loss: 1.1602 - acc: 0.4964 - val_loss: 1.9646 - val_acc: 0.3580\n",
      "Epoch 44/200\n",
      "8032/8032 [==============================] - 21s 3ms/step - loss: 1.1562 - acc: 0.4971 - val_loss: 1.9703 - val_acc: 0.3576\n",
      "Epoch 45/200\n",
      "8032/8032 [==============================] - 21s 3ms/step - loss: 1.1528 - acc: 0.4983 - val_loss: 1.9803 - val_acc: 0.3589\n",
      "Epoch 46/200\n",
      "8032/8032 [==============================] - 21s 3ms/step - loss: 1.1681 - acc: 0.4943 - val_loss: 1.9642 - val_acc: 0.3549\n",
      "Epoch 47/200\n",
      "8032/8032 [==============================] - 22s 3ms/step - loss: 1.1721 - acc: 0.4918 - val_loss: 1.9581 - val_acc: 0.3565\n",
      "Epoch 48/200\n",
      "8032/8032 [==============================] - 24s 3ms/step - loss: 1.1486 - acc: 0.4997 - val_loss: 1.9773 - val_acc: 0.3563\n",
      "Epoch 49/200\n",
      "8032/8032 [==============================] - 21s 3ms/step - loss: 1.1462 - acc: 0.5003 - val_loss: 1.9773 - val_acc: 0.3585\n",
      "Epoch 50/200\n",
      "8032/8032 [==============================] - 21s 3ms/step - loss: 1.1449 - acc: 0.5008 - val_loss: 1.9818 - val_acc: 0.3569\n",
      "Epoch 51/200\n",
      "8032/8032 [==============================] - 21s 3ms/step - loss: 1.1472 - acc: 0.4998 - val_loss: 1.9927 - val_acc: 0.3586\n",
      "Epoch 52/200\n",
      "8032/8032 [==============================] - 21s 3ms/step - loss: 1.1417 - acc: 0.5016 - val_loss: 1.9892 - val_acc: 0.3567\n",
      "Epoch 53/200\n",
      "8032/8032 [==============================] - 21s 3ms/step - loss: 1.1536 - acc: 0.4971 - val_loss: 1.9771 - val_acc: 0.3584\n",
      "Epoch 54/200\n",
      "8032/8032 [==============================] - 21s 3ms/step - loss: 1.1609 - acc: 0.4965 - val_loss: 1.9864 - val_acc: 0.3550\n",
      "Epoch 55/200\n",
      "8032/8032 [==============================] - 21s 3ms/step - loss: 1.1803 - acc: 0.4895 - val_loss: 1.9696 - val_acc: 0.3599\n",
      "Epoch 56/200\n",
      "8032/8032 [==============================] - 24s 3ms/step - loss: 1.1471 - acc: 0.4998 - val_loss: 1.9764 - val_acc: 0.3584\n",
      "Epoch 57/200\n",
      "8032/8032 [==============================] - 23s 3ms/step - loss: 1.1358 - acc: 0.5025 - val_loss: 1.9923 - val_acc: 0.3611\n",
      "Epoch 58/200\n",
      "8032/8032 [==============================] - 21s 3ms/step - loss: 1.1470 - acc: 0.4991 - val_loss: 1.9648 - val_acc: 0.3610\n",
      "Epoch 59/200\n",
      "8032/8032 [==============================] - 21s 3ms/step - loss: 1.1348 - acc: 0.5034 - val_loss: 1.9840 - val_acc: 0.3585\n",
      "Epoch 60/200\n"
     ]
    },
    {
     "name": "stdout",
     "output_type": "stream",
     "text": [
      "8032/8032 [==============================] - 21s 3ms/step - loss: 1.1227 - acc: 0.5078 - val_loss: 1.9757 - val_acc: 0.3596\n",
      "Epoch 61/200\n",
      "8032/8032 [==============================] - 20s 3ms/step - loss: 1.1205 - acc: 0.5075 - val_loss: 1.9798 - val_acc: 0.3596\n",
      "Epoch 62/200\n",
      "8032/8032 [==============================] - 21s 3ms/step - loss: 1.1236 - acc: 0.5066 - val_loss: 1.9935 - val_acc: 0.3565\n",
      "Epoch 63/200\n",
      "8032/8032 [==============================] - 20s 3ms/step - loss: 1.1368 - acc: 0.5023 - val_loss: 1.9910 - val_acc: 0.3583\n",
      "Epoch 64/200\n",
      "8032/8032 [==============================] - 20s 3ms/step - loss: 1.1430 - acc: 0.5008 - val_loss: 2.0105 - val_acc: 0.3578\n",
      "Epoch 65/200\n",
      "8032/8032 [==============================] - 21s 3ms/step - loss: 1.1252 - acc: 0.5042 - val_loss: 1.9883 - val_acc: 0.3594\n",
      "Epoch 66/200\n",
      "8032/8032 [==============================] - 24s 3ms/step - loss: 1.1246 - acc: 0.5058 - val_loss: 2.0043 - val_acc: 0.3554\n",
      "Epoch 67/200\n",
      "8032/8032 [==============================] - 21s 3ms/step - loss: 1.1370 - acc: 0.5027 - val_loss: 1.9940 - val_acc: 0.3596\n",
      "Epoch 68/200\n",
      "8032/8032 [==============================] - 21s 3ms/step - loss: 1.1435 - acc: 0.5010 - val_loss: 2.0351 - val_acc: 0.3572\n",
      "Epoch 69/200\n",
      "8032/8032 [==============================] - 20s 3ms/step - loss: 1.1275 - acc: 0.5058 - val_loss: 2.0106 - val_acc: 0.3589\n",
      "Epoch 70/200\n",
      "8032/8032 [==============================] - 20s 3ms/step - loss: 1.1472 - acc: 0.4990 - val_loss: 1.9701 - val_acc: 0.3575\n",
      "Epoch 71/200\n",
      "8032/8032 [==============================] - 20s 3ms/step - loss: 1.1422 - acc: 0.5013 - val_loss: 1.9936 - val_acc: 0.3571\n",
      "Epoch 72/200\n",
      "8032/8032 [==============================] - 20s 3ms/step - loss: 1.1324 - acc: 0.5044 - val_loss: 1.9934 - val_acc: 0.3574\n",
      "Epoch 73/200\n",
      "8032/8032 [==============================] - 20s 3ms/step - loss: 1.1220 - acc: 0.5068 - val_loss: 2.0063 - val_acc: 0.3572\n",
      "Epoch 74/200\n",
      "8032/8032 [==============================] - 21s 3ms/step - loss: 1.1194 - acc: 0.5076 - val_loss: 2.0078 - val_acc: 0.3573\n",
      "Epoch 75/200\n",
      "8032/8032 [==============================] - 21s 3ms/step - loss: 1.1214 - acc: 0.5070 - val_loss: 1.9933 - val_acc: 0.3594\n",
      "Epoch 76/200\n",
      "8032/8032 [==============================] - 24s 3ms/step - loss: 1.1438 - acc: 0.5017 - val_loss: 2.0037 - val_acc: 0.3527\n",
      "Epoch 77/200\n",
      "8032/8032 [==============================] - 22s 3ms/step - loss: 1.1917 - acc: 0.4871 - val_loss: 1.9855 - val_acc: 0.3587\n",
      "Epoch 78/200\n",
      "8032/8032 [==============================] - 20s 3ms/step - loss: 1.1348 - acc: 0.5033 - val_loss: 2.0185 - val_acc: 0.3581\n",
      "Epoch 79/200\n",
      "8032/8032 [==============================] - 20s 3ms/step - loss: 1.1128 - acc: 0.5100 - val_loss: 2.0059 - val_acc: 0.3585\n",
      "Epoch 80/200\n",
      "8032/8032 [==============================] - 20s 3ms/step - loss: 1.0989 - acc: 0.5137 - val_loss: 2.0168 - val_acc: 0.3598\n",
      "Epoch 81/200\n",
      "8032/8032 [==============================] - 20s 3ms/step - loss: 1.1028 - acc: 0.5112 - val_loss: 2.0084 - val_acc: 0.3573\n",
      "Epoch 82/200\n",
      "8032/8032 [==============================] - 21s 3ms/step - loss: 1.0996 - acc: 0.5136 - val_loss: 2.0089 - val_acc: 0.3546\n",
      "Epoch 83/200\n",
      "8032/8032 [==============================] - 24s 3ms/step - loss: 1.0978 - acc: 0.5135 - val_loss: 2.0237 - val_acc: 0.3558\n",
      "Epoch 84/200\n",
      "8032/8032 [==============================] - 20s 3ms/step - loss: 1.1129 - acc: 0.5086 - val_loss: 2.0164 - val_acc: 0.3555\n",
      "Epoch 85/200\n",
      "8032/8032 [==============================] - 21s 3ms/step - loss: 1.1380 - acc: 0.5026 - val_loss: 2.0303 - val_acc: 0.3578\n",
      "Epoch 86/200\n",
      "8032/8032 [==============================] - 20s 3ms/step - loss: 1.1252 - acc: 0.5056 - val_loss: 2.0155 - val_acc: 0.3593\n",
      "Epoch 87/200\n",
      "8032/8032 [==============================] - 20s 3ms/step - loss: 1.1121 - acc: 0.5090 - val_loss: 2.0264 - val_acc: 0.3540\n",
      "Epoch 88/200\n",
      "8032/8032 [==============================] - 21s 3ms/step - loss: 1.1289 - acc: 0.5050 - val_loss: 1.9874 - val_acc: 0.3563\n",
      "Epoch 89/200\n",
      "8032/8032 [==============================] - 20s 3ms/step - loss: 1.1051 - acc: 0.5107 - val_loss: 2.0307 - val_acc: 0.3563\n",
      "Epoch 90/200\n",
      "8032/8032 [==============================] - 20s 3ms/step - loss: 1.1015 - acc: 0.5129 - val_loss: 2.0078 - val_acc: 0.3553\n",
      "Epoch 91/200\n",
      "8032/8032 [==============================] - 22s 3ms/step - loss: 1.0978 - acc: 0.5135 - val_loss: 2.0192 - val_acc: 0.3568\n",
      "Epoch 92/200\n",
      "8032/8032 [==============================] - 23s 3ms/step - loss: 1.0968 - acc: 0.5139 - val_loss: 2.0221 - val_acc: 0.3583\n",
      "Epoch 93/200\n",
      "8032/8032 [==============================] - 20s 3ms/step - loss: 1.1045 - acc: 0.5126 - val_loss: 2.0178 - val_acc: 0.3579\n",
      "Epoch 94/200\n",
      "8032/8032 [==============================] - 21s 3ms/step - loss: 1.0902 - acc: 0.5158 - val_loss: 2.0382 - val_acc: 0.3582\n",
      "Epoch 95/200\n",
      "8032/8032 [==============================] - 21s 3ms/step - loss: 1.1080 - acc: 0.5117 - val_loss: 2.0424 - val_acc: 0.3549\n",
      "Epoch 96/200\n",
      "8032/8032 [==============================] - 21s 3ms/step - loss: 1.1352 - acc: 0.5032 - val_loss: 2.0235 - val_acc: 0.3572\n",
      "Epoch 97/200\n",
      "8032/8032 [==============================] - 21s 3ms/step - loss: 1.1183 - acc: 0.5076 - val_loss: 2.0166 - val_acc: 0.3599\n",
      "Epoch 98/200\n",
      "8032/8032 [==============================] - 21s 3ms/step - loss: 1.0952 - acc: 0.5145 - val_loss: 2.0363 - val_acc: 0.3560\n",
      "Epoch 99/200\n",
      "8032/8032 [==============================] - 23s 3ms/step - loss: 1.0966 - acc: 0.5140 - val_loss: 2.0178 - val_acc: 0.3551\n",
      "Epoch 100/200\n",
      "8032/8032 [==============================] - 22s 3ms/step - loss: 1.1211 - acc: 0.5065 - val_loss: 2.0326 - val_acc: 0.3560\n",
      "Epoch 101/200\n",
      "8032/8032 [==============================] - 21s 3ms/step - loss: 1.1020 - acc: 0.5131 - val_loss: 2.0328 - val_acc: 0.3554\n",
      "Epoch 102/200\n",
      "8032/8032 [==============================] - 21s 3ms/step - loss: 1.1217 - acc: 0.5064 - val_loss: 2.0426 - val_acc: 0.3548\n",
      "Epoch 103/200\n",
      "8032/8032 [==============================] - 21s 3ms/step - loss: 1.0907 - acc: 0.5165 - val_loss: 2.0144 - val_acc: 0.3571\n",
      "Epoch 104/200\n",
      "8032/8032 [==============================] - 21s 3ms/step - loss: 1.0817 - acc: 0.5180 - val_loss: 2.0433 - val_acc: 0.3586\n",
      "Epoch 105/200\n",
      "8032/8032 [==============================] - 21s 3ms/step - loss: 1.0797 - acc: 0.5197 - val_loss: 2.0497 - val_acc: 0.3555\n",
      "Epoch 106/200\n",
      "8032/8032 [==============================] - 21s 3ms/step - loss: 1.0994 - acc: 0.5141 - val_loss: 2.0249 - val_acc: 0.3551\n",
      "Epoch 107/200\n",
      "8032/8032 [==============================] - 21s 3ms/step - loss: 1.0961 - acc: 0.5141 - val_loss: 2.0301 - val_acc: 0.3600\n",
      "Epoch 108/200\n",
      "8032/8032 [==============================] - 24s 3ms/step - loss: 1.0977 - acc: 0.5121 - val_loss: 2.0380 - val_acc: 0.3547\n",
      "Epoch 109/200\n",
      "8032/8032 [==============================] - 22s 3ms/step - loss: 1.0898 - acc: 0.5161 - val_loss: 2.0275 - val_acc: 0.3602\n",
      "Epoch 110/200\n",
      "8032/8032 [==============================] - 21s 3ms/step - loss: 1.0809 - acc: 0.5184 - val_loss: 2.0533 - val_acc: 0.3571\n",
      "Epoch 111/200\n",
      "8032/8032 [==============================] - 21s 3ms/step - loss: 1.0859 - acc: 0.5164 - val_loss: 2.0327 - val_acc: 0.3578\n",
      "Epoch 112/200\n",
      "8032/8032 [==============================] - 21s 3ms/step - loss: 1.0881 - acc: 0.5168 - val_loss: 2.0331 - val_acc: 0.3565\n",
      "Epoch 113/200\n",
      "8032/8032 [==============================] - 20s 3ms/step - loss: 1.0934 - acc: 0.5150 - val_loss: 2.0460 - val_acc: 0.3580\n",
      "Epoch 114/200\n",
      "8032/8032 [==============================] - 21s 3ms/step - loss: 1.0864 - acc: 0.5163 - val_loss: 2.0425 - val_acc: 0.3598\n",
      "Epoch 115/200\n",
      "8032/8032 [==============================] - 21s 3ms/step - loss: 1.0834 - acc: 0.5171 - val_loss: 2.0443 - val_acc: 0.3564\n",
      "Epoch 116/200\n",
      "8032/8032 [==============================] - 23s 3ms/step - loss: 1.0918 - acc: 0.5152 - val_loss: 2.0440 - val_acc: 0.3559\n",
      "Epoch 117/200\n",
      "8032/8032 [==============================] - 22s 3ms/step - loss: 1.0783 - acc: 0.5190 - val_loss: 2.0596 - val_acc: 0.3593\n",
      "Epoch 118/200\n",
      "8032/8032 [==============================] - 21s 3ms/step - loss: 1.0741 - acc: 0.5207 - val_loss: 2.0450 - val_acc: 0.3585\n",
      "Epoch 119/200\n",
      "8032/8032 [==============================] - 21s 3ms/step - loss: 1.0855 - acc: 0.5177 - val_loss: 2.0516 - val_acc: 0.3574\n"
     ]
    },
    {
     "name": "stdout",
     "output_type": "stream",
     "text": [
      "Epoch 120/200\n",
      "8032/8032 [==============================] - 20s 3ms/step - loss: 1.1258 - acc: 0.5062 - val_loss: 2.0399 - val_acc: 0.3552\n",
      "Epoch 121/200\n",
      "8032/8032 [==============================] - 20s 3ms/step - loss: 1.1256 - acc: 0.5051 - val_loss: 2.0344 - val_acc: 0.3556\n",
      "Epoch 122/200\n",
      "8032/8032 [==============================] - 20s 3ms/step - loss: 1.1026 - acc: 0.5123 - val_loss: 2.0378 - val_acc: 0.3598\n",
      "Epoch 123/200\n",
      "8032/8032 [==============================] - 20s 3ms/step - loss: 1.0779 - acc: 0.5195 - val_loss: 2.0375 - val_acc: 0.3580\n",
      "Epoch 124/200\n",
      "8032/8032 [==============================] - 20s 3ms/step - loss: 1.0768 - acc: 0.5193 - val_loss: 2.0532 - val_acc: 0.3604\n",
      "Epoch 125/200\n",
      "8032/8032 [==============================] - 23s 3ms/step - loss: 1.0700 - acc: 0.5215 - val_loss: 2.0461 - val_acc: 0.3568\n",
      "Epoch 126/200\n",
      "8032/8032 [==============================] - 20s 3ms/step - loss: 1.0698 - acc: 0.5218 - val_loss: 2.0670 - val_acc: 0.3562\n",
      "Epoch 127/200\n",
      "8032/8032 [==============================] - 20s 3ms/step - loss: 1.0670 - acc: 0.5220 - val_loss: 2.0631 - val_acc: 0.3577\n",
      "Epoch 128/200\n",
      "8032/8032 [==============================] - 20s 3ms/step - loss: 1.0658 - acc: 0.5229 - val_loss: 2.0663 - val_acc: 0.3572\n",
      "Epoch 129/200\n",
      "8032/8032 [==============================] - 23s 3ms/step - loss: 1.0873 - acc: 0.5163 - val_loss: 2.0323 - val_acc: 0.3576\n",
      "Epoch 130/200\n",
      "8032/8032 [==============================] - 22s 3ms/step - loss: 1.0894 - acc: 0.5158 - val_loss: 2.0365 - val_acc: 0.3553\n",
      "Epoch 131/200\n",
      "8032/8032 [==============================] - 21s 3ms/step - loss: 1.0738 - acc: 0.5205 - val_loss: 2.0315 - val_acc: 0.3597\n",
      "Epoch 132/200\n",
      "8032/8032 [==============================] - 20s 3ms/step - loss: 1.0708 - acc: 0.5198 - val_loss: 2.0616 - val_acc: 0.3572\n",
      "Epoch 133/200\n",
      "8032/8032 [==============================] - 20s 3ms/step - loss: 1.0548 - acc: 0.5263 - val_loss: 2.0671 - val_acc: 0.3590\n",
      "Epoch 134/200\n",
      "8032/8032 [==============================] - 21s 3ms/step - loss: 1.0589 - acc: 0.5246 - val_loss: 2.0691 - val_acc: 0.3569\n",
      "Epoch 135/200\n",
      "8032/8032 [==============================] - 21s 3ms/step - loss: 1.0587 - acc: 0.5245 - val_loss: 2.0747 - val_acc: 0.3556\n",
      "Epoch 136/200\n",
      "8032/8032 [==============================] - 21s 3ms/step - loss: 1.1043 - acc: 0.5111 - val_loss: 2.0552 - val_acc: 0.3549\n",
      "Epoch 137/200\n",
      "8032/8032 [==============================] - 24s 3ms/step - loss: 1.1021 - acc: 0.5133 - val_loss: 2.0420 - val_acc: 0.3550\n",
      "Epoch 138/200\n",
      "8032/8032 [==============================] - 20s 3ms/step - loss: 1.0845 - acc: 0.5167 - val_loss: 2.0633 - val_acc: 0.3585\n",
      "Epoch 139/200\n",
      "8032/8032 [==============================] - 22s 3ms/step - loss: 1.0685 - acc: 0.5210 - val_loss: 2.0694 - val_acc: 0.3577\n",
      "Epoch 140/200\n",
      "8032/8032 [==============================] - 23s 3ms/step - loss: 1.0812 - acc: 0.5183 - val_loss: 2.0564 - val_acc: 0.3555\n",
      "Epoch 141/200\n",
      "8032/8032 [==============================] - 20s 3ms/step - loss: 1.0745 - acc: 0.5203 - val_loss: 2.0539 - val_acc: 0.3573\n",
      "Epoch 142/200\n",
      "8032/8032 [==============================] - 21s 3ms/step - loss: 1.0601 - acc: 0.5241 - val_loss: 2.0612 - val_acc: 0.3574\n",
      "Epoch 143/200\n",
      "8032/8032 [==============================] - 20s 3ms/step - loss: 1.0513 - acc: 0.5269 - val_loss: 2.0515 - val_acc: 0.3586\n",
      "Epoch 144/200\n",
      "8032/8032 [==============================] - 20s 3ms/step - loss: 1.0518 - acc: 0.5262 - val_loss: 2.0677 - val_acc: 0.3571\n",
      "Epoch 145/200\n",
      "8032/8032 [==============================] - 21s 3ms/step - loss: 1.0625 - acc: 0.5229 - val_loss: 2.0783 - val_acc: 0.3576\n",
      "Epoch 146/200\n",
      "8032/8032 [==============================] - 23s 3ms/step - loss: 1.0782 - acc: 0.5176 - val_loss: 2.0951 - val_acc: 0.3514\n",
      "Epoch 147/200\n",
      "8032/8032 [==============================] - 22s 3ms/step - loss: 1.0833 - acc: 0.5173 - val_loss: 2.0664 - val_acc: 0.3581\n",
      "Epoch 148/200\n",
      "8032/8032 [==============================] - 21s 3ms/step - loss: 1.0562 - acc: 0.5250 - val_loss: 2.0667 - val_acc: 0.3563\n",
      "Epoch 149/200\n",
      "8032/8032 [==============================] - 21s 3ms/step - loss: 1.0449 - acc: 0.5286 - val_loss: 2.0637 - val_acc: 0.3594\n",
      "Epoch 150/200\n",
      "8032/8032 [==============================] - 21s 3ms/step - loss: 1.0419 - acc: 0.5298 - val_loss: 2.0720 - val_acc: 0.3582\n",
      "Epoch 151/200\n",
      "8032/8032 [==============================] - 22s 3ms/step - loss: 1.0556 - acc: 0.5254 - val_loss: 2.0835 - val_acc: 0.3544\n",
      "Epoch 152/200\n",
      "8032/8032 [==============================] - 24s 3ms/step - loss: 1.0897 - acc: 0.5163 - val_loss: 2.0739 - val_acc: 0.3554\n",
      "Epoch 153/200\n",
      "8032/8032 [==============================] - 21s 3ms/step - loss: 1.0633 - acc: 0.5226 - val_loss: 2.0679 - val_acc: 0.3550\n",
      "Epoch 154/200\n",
      "8032/8032 [==============================] - 21s 3ms/step - loss: 1.1015 - acc: 0.5123 - val_loss: 2.0489 - val_acc: 0.3555\n",
      "Epoch 155/200\n",
      "8032/8032 [==============================] - 20s 3ms/step - loss: 1.0671 - acc: 0.5217 - val_loss: 2.0812 - val_acc: 0.3576\n",
      "Epoch 156/200\n",
      "8032/8032 [==============================] - 20s 3ms/step - loss: 1.0542 - acc: 0.5255 - val_loss: 2.0534 - val_acc: 0.3568\n",
      "Epoch 157/200\n",
      "8032/8032 [==============================] - 21s 3ms/step - loss: 1.0415 - acc: 0.5293 - val_loss: 2.0842 - val_acc: 0.3552\n",
      "Epoch 158/200\n",
      "8032/8032 [==============================] - 20s 3ms/step - loss: 1.0346 - acc: 0.5311 - val_loss: 2.0785 - val_acc: 0.3574\n",
      "Epoch 159/200\n",
      "8032/8032 [==============================] - 24s 3ms/step - loss: 1.0389 - acc: 0.5293 - val_loss: 2.0971 - val_acc: 0.3549\n",
      "Epoch 160/200\n",
      "8032/8032 [==============================] - 21s 3ms/step - loss: 1.0482 - acc: 0.5275 - val_loss: 2.0766 - val_acc: 0.3569\n",
      "Epoch 161/200\n",
      "8032/8032 [==============================] - 20s 3ms/step - loss: 1.0422 - acc: 0.5289 - val_loss: 2.0965 - val_acc: 0.3583\n",
      "Epoch 162/200\n",
      "8032/8032 [==============================] - 20s 3ms/step - loss: 1.0508 - acc: 0.5260 - val_loss: 2.0933 - val_acc: 0.3583\n",
      "Epoch 163/200\n",
      "8032/8032 [==============================] - 20s 3ms/step - loss: 1.0518 - acc: 0.5260 - val_loss: 2.0753 - val_acc: 0.3567\n",
      "Epoch 164/200\n",
      "8032/8032 [==============================] - 20s 3ms/step - loss: 1.1258 - acc: 0.5056 - val_loss: 2.0863 - val_acc: 0.3535\n",
      "Epoch 165/200\n",
      "8032/8032 [==============================] - 21s 3ms/step - loss: 1.1164 - acc: 0.5089 - val_loss: 2.0982 - val_acc: 0.3575\n",
      "Epoch 166/200\n",
      "8032/8032 [==============================] - 20s 3ms/step - loss: 1.0709 - acc: 0.5210 - val_loss: 2.0849 - val_acc: 0.3563\n",
      "Epoch 167/200\n",
      "8032/8032 [==============================] - 21s 3ms/step - loss: 1.0440 - acc: 0.5278 - val_loss: 2.0776 - val_acc: 0.3580\n",
      "Epoch 168/200\n",
      "8032/8032 [==============================] - 24s 3ms/step - loss: 1.0281 - acc: 0.5332 - val_loss: 2.0957 - val_acc: 0.3580\n",
      "Epoch 169/200\n",
      "8032/8032 [==============================] - 21s 3ms/step - loss: 1.0231 - acc: 0.5354 - val_loss: 2.0994 - val_acc: 0.3590\n",
      "Epoch 170/200\n",
      "8032/8032 [==============================] - 20s 3ms/step - loss: 1.0338 - acc: 0.5312 - val_loss: 2.1138 - val_acc: 0.3542\n",
      "Epoch 171/200\n",
      "8032/8032 [==============================] - 21s 3ms/step - loss: 1.0662 - acc: 0.5216 - val_loss: 2.0897 - val_acc: 0.3572\n",
      "Epoch 172/200\n",
      "8032/8032 [==============================] - 21s 3ms/step - loss: 1.0310 - acc: 0.5316 - val_loss: 2.0921 - val_acc: 0.3580\n",
      "Epoch 173/200\n",
      "8032/8032 [==============================] - 21s 3ms/step - loss: 1.0349 - acc: 0.5311 - val_loss: 2.0909 - val_acc: 0.3551\n",
      "Epoch 174/200\n",
      "8032/8032 [==============================] - 21s 3ms/step - loss: 1.0822 - acc: 0.5172 - val_loss: 2.1067 - val_acc: 0.3566\n",
      "Epoch 175/200\n",
      "8032/8032 [==============================] - 21s 3ms/step - loss: 1.0574 - acc: 0.5239 - val_loss: 2.0966 - val_acc: 0.3576\n",
      "Epoch 176/200\n",
      "8032/8032 [==============================] - 23s 3ms/step - loss: 1.0574 - acc: 0.5250 - val_loss: 2.0852 - val_acc: 0.3584\n",
      "Epoch 177/200\n",
      "8032/8032 [==============================] - 23s 3ms/step - loss: 1.0380 - acc: 0.5292 - val_loss: 2.0895 - val_acc: 0.3561\n",
      "Epoch 178/200\n",
      "8032/8032 [==============================] - 21s 3ms/step - loss: 1.0276 - acc: 0.5340 - val_loss: 2.1028 - val_acc: 0.3596\n",
      "Epoch 179/200\n"
     ]
    },
    {
     "name": "stdout",
     "output_type": "stream",
     "text": [
      "8032/8032 [==============================] - 20s 3ms/step - loss: 1.0230 - acc: 0.5344 - val_loss: 2.1030 - val_acc: 0.3589\n",
      "Epoch 180/200\n",
      "8032/8032 [==============================] - 20s 3ms/step - loss: 1.0292 - acc: 0.5321 - val_loss: 2.0972 - val_acc: 0.3600\n",
      "Epoch 181/200\n",
      "8032/8032 [==============================] - 20s 3ms/step - loss: 1.0323 - acc: 0.5312 - val_loss: 2.0822 - val_acc: 0.3591\n",
      "Epoch 182/200\n",
      "8032/8032 [==============================] - 21s 3ms/step - loss: 1.0272 - acc: 0.5327 - val_loss: 2.0862 - val_acc: 0.3599\n",
      "Epoch 183/200\n",
      "8032/8032 [==============================] - 20s 3ms/step - loss: 1.0357 - acc: 0.5310 - val_loss: 2.0890 - val_acc: 0.3545\n",
      "Epoch 184/200\n",
      "8032/8032 [==============================] - 20s 3ms/step - loss: 1.0325 - acc: 0.5316 - val_loss: 2.1105 - val_acc: 0.3549\n",
      "Epoch 185/200\n",
      "8032/8032 [==============================] - 20s 3ms/step - loss: 1.0810 - acc: 0.5183 - val_loss: 2.1013 - val_acc: 0.3561\n",
      "Epoch 186/200\n",
      "8032/8032 [==============================] - 20s 3ms/step - loss: 1.0739 - acc: 0.5199 - val_loss: 2.0915 - val_acc: 0.3574\n",
      "Epoch 187/200\n",
      "8032/8032 [==============================] - 21s 3ms/step - loss: 1.0411 - acc: 0.5285 - val_loss: 2.1033 - val_acc: 0.3587\n",
      "Epoch 188/200\n",
      "8032/8032 [==============================] - 24s 3ms/step - loss: 1.0419 - acc: 0.5289 - val_loss: 2.1052 - val_acc: 0.3572\n",
      "Epoch 189/200\n",
      "8032/8032 [==============================] - 22s 3ms/step - loss: 1.0350 - acc: 0.5305 - val_loss: 2.1022 - val_acc: 0.3586\n",
      "Epoch 190/200\n",
      "8032/8032 [==============================] - 20s 3ms/step - loss: 1.0235 - acc: 0.5341 - val_loss: 2.1036 - val_acc: 0.3583\n",
      "Epoch 191/200\n",
      "8032/8032 [==============================] - 20s 3ms/step - loss: 1.0374 - acc: 0.5288 - val_loss: 2.1005 - val_acc: 0.3584\n",
      "Epoch 192/200\n",
      "8032/8032 [==============================] - 20s 3ms/step - loss: 1.0205 - acc: 0.5354 - val_loss: 2.1193 - val_acc: 0.3591\n",
      "Epoch 193/200\n",
      "8032/8032 [==============================] - 20s 3ms/step - loss: 1.0176 - acc: 0.5360 - val_loss: 2.1095 - val_acc: 0.3575\n",
      "Epoch 194/200\n",
      "8032/8032 [==============================] - 20s 3ms/step - loss: 1.0070 - acc: 0.5386 - val_loss: 2.1094 - val_acc: 0.3564\n",
      "Epoch 195/200\n",
      "8032/8032 [==============================] - 20s 3ms/step - loss: 1.0190 - acc: 0.5351 - val_loss: 2.1161 - val_acc: 0.3558\n",
      "Epoch 196/200\n",
      "8032/8032 [==============================] - 21s 3ms/step - loss: 1.0231 - acc: 0.5339 - val_loss: 2.1188 - val_acc: 0.3574\n",
      "Epoch 197/200\n",
      "8032/8032 [==============================] - 23s 3ms/step - loss: 1.0252 - acc: 0.5333 - val_loss: 2.1040 - val_acc: 0.3608\n",
      "Epoch 198/200\n",
      "8032/8032 [==============================] - 20s 3ms/step - loss: 1.0222 - acc: 0.5343 - val_loss: 2.1264 - val_acc: 0.3591\n",
      "Epoch 199/200\n",
      "8032/8032 [==============================] - 20s 3ms/step - loss: 1.0099 - acc: 0.5379 - val_loss: 2.1367 - val_acc: 0.3577\n",
      "Epoch 200/200\n",
      "8032/8032 [==============================] - 20s 3ms/step - loss: 1.0735 - acc: 0.5209 - val_loss: 2.1227 - val_acc: 0.3588\n"
     ]
    },
    {
     "data": {
      "text/plain": [
       "<keras.callbacks.History at 0x7f93e1d42fd0>"
      ]
     },
     "execution_count": 223,
     "metadata": {},
     "output_type": "execute_result"
    }
   ],
   "source": [
    "model.fit(encoder_input_data, decoder_target_data,\n",
    "          batch_size=64,\n",
    "          epochs=200,\n",
    "          validation_split=0.2)"
   ]
  },
  {
   "cell_type": "code",
   "execution_count": 224,
   "metadata": {},
   "outputs": [],
   "source": [
    "from keras.models import load_model\n",
    "\n",
    "model.save_weights('attentionweights.h5')"
   ]
  },
  {
   "cell_type": "code",
   "execution_count": 225,
   "metadata": {},
   "outputs": [],
   "source": [
    "model.load_weights('attentionweights.h5')"
   ]
  },
  {
   "cell_type": "code",
   "execution_count": 226,
   "metadata": {},
   "outputs": [
    {
     "data": {
      "text/plain": [
       "'encoder_model = Model(encoder_inputs, encoder_states)\\n\\ndecoder_state_input_h = Input(shape=(latent_dim,))\\ndecoder_state_input_c = Input(shape=(latent_dim,))\\ndecoder_states_inputs = [decoder_state_input_h, decoder_state_input_c]\\ndecoder_outputs, state_h, state_c = decoder_lstm(\\n    decoder_inputs, initial_state=decoder_states_inputs)\\ndecoder_states = [state_h, state_c]\\ndecoder_outputs = decoder_dense(decoder_outputs)\\ndecoder_model = Model(\\n    [decoder_inputs] + decoder_states_inputs,\\n    [decoder_outputs] + decoder_states)'"
      ]
     },
     "execution_count": 226,
     "metadata": {},
     "output_type": "execute_result"
    }
   ],
   "source": [
    "'''encoder_model = Model(encoder_inputs, encoder_states)\n",
    "\n",
    "decoder_state_input_h = Input(shape=(latent_dim,))\n",
    "decoder_state_input_c = Input(shape=(latent_dim,))\n",
    "decoder_states_inputs = [decoder_state_input_h, decoder_state_input_c]\n",
    "decoder_outputs, state_h, state_c = decoder_lstm(\n",
    "    decoder_inputs, initial_state=decoder_states_inputs)\n",
    "decoder_states = [state_h, state_c]\n",
    "decoder_outputs = decoder_dense(decoder_outputs)\n",
    "decoder_model = Model(\n",
    "    [decoder_inputs] + decoder_states_inputs,\n",
    "    [decoder_outputs] + decoder_states)'''"
   ]
  },
  {
   "cell_type": "code",
   "execution_count": 227,
   "metadata": {
    "collapsed": true
   },
   "outputs": [],
   "source": [
    "reverse_input_char_index = dict(\n",
    "    (i, char) for char, i in input_token_index.items())\n",
    "reverse_target_char_index = dict(\n",
    "    (i, char) for char, i in output_token_index.items())"
   ]
  },
  {
   "cell_type": "code",
   "execution_count": 228,
   "metadata": {},
   "outputs": [
    {
     "data": {
      "text/plain": [
       "{0: '\\t',\n",
       " 1: '\\n',\n",
       " 2: ' ',\n",
       " 3: '!',\n",
       " 4: '$',\n",
       " 5: '&',\n",
       " 6: \"'\",\n",
       " 7: '(',\n",
       " 8: ')',\n",
       " 9: ',',\n",
       " 10: '-',\n",
       " 11: '.',\n",
       " 12: '0',\n",
       " 13: '1',\n",
       " 14: '2',\n",
       " 15: '3',\n",
       " 16: '4',\n",
       " 17: '5',\n",
       " 18: '6',\n",
       " 19: '7',\n",
       " 20: '8',\n",
       " 21: '9',\n",
       " 22: '?',\n",
       " 23: 'A',\n",
       " 24: 'B',\n",
       " 25: 'C',\n",
       " 26: 'D',\n",
       " 27: 'E',\n",
       " 28: 'F',\n",
       " 29: 'G',\n",
       " 30: 'H',\n",
       " 31: 'I',\n",
       " 32: 'J',\n",
       " 33: 'K',\n",
       " 34: 'L',\n",
       " 35: 'M',\n",
       " 36: 'N',\n",
       " 37: 'O',\n",
       " 38: 'P',\n",
       " 39: 'Q',\n",
       " 40: 'R',\n",
       " 41: 'S',\n",
       " 42: 'T',\n",
       " 43: 'U',\n",
       " 44: 'V',\n",
       " 45: 'W',\n",
       " 46: 'X',\n",
       " 47: 'Y',\n",
       " 48: 'Z',\n",
       " 49: 'a',\n",
       " 50: 'b',\n",
       " 51: 'c',\n",
       " 52: 'd',\n",
       " 53: 'e',\n",
       " 54: 'f',\n",
       " 55: 'g',\n",
       " 56: 'h',\n",
       " 57: 'i',\n",
       " 58: 'j',\n",
       " 59: 'k',\n",
       " 60: 'l',\n",
       " 61: 'm',\n",
       " 62: 'n',\n",
       " 63: 'o',\n",
       " 64: 'p',\n",
       " 65: 'q',\n",
       " 66: 'r',\n",
       " 67: 's',\n",
       " 68: 't',\n",
       " 69: 'u',\n",
       " 70: 'v',\n",
       " 71: 'w',\n",
       " 72: 'x',\n",
       " 73: 'y',\n",
       " 74: 'z',\n",
       " 75: '\\xa0',\n",
       " 76: 'À',\n",
       " 77: 'Ç',\n",
       " 78: 'É',\n",
       " 79: 'Ê',\n",
       " 80: 'Ô',\n",
       " 81: 'à',\n",
       " 82: 'â',\n",
       " 83: 'ç',\n",
       " 84: 'è',\n",
       " 85: 'é',\n",
       " 86: 'ê',\n",
       " 87: 'ë',\n",
       " 88: 'î',\n",
       " 89: 'ï',\n",
       " 90: 'ô',\n",
       " 91: 'ù',\n",
       " 92: 'û',\n",
       " 93: 'œ',\n",
       " 94: '\\u2009',\n",
       " 95: '‘',\n",
       " 96: '’',\n",
       " 97: '\\u202f'}"
      ]
     },
     "execution_count": 228,
     "metadata": {},
     "output_type": "execute_result"
    }
   ],
   "source": [
    "reverse_target_char_index"
   ]
  },
  {
   "cell_type": "code",
   "execution_count": 229,
   "metadata": {
    "collapsed": true
   },
   "outputs": [],
   "source": [
    "def decode_sequence(input_seq):\n",
    "    # Encode the input as state vectors.\n",
    "    output_seq = model.predict(input_seq)\n",
    "    text=''\n",
    "    for vector in output_seq[0]:\n",
    "        text = text+(reverse_target_char_index[np.argmax(vector)])\n",
    "    \n",
    "    return text"
   ]
  },
  {
   "cell_type": "code",
   "execution_count": 230,
   "metadata": {},
   "outputs": [
    {
     "name": "stdout",
     "output_type": "stream",
     "text": [
      "-\n",
      "Input sentence: I have cash.\n",
      "Decoded sentence: \tJ'ai de cadcdee.\n",
      "\n",
      "\n",
      "\n",
      "\n",
      "-\n",
      "Input sentence: How strong he is!\n",
      "Decoded sentence: \tComme ii ll a tire!!\n",
      "-\n",
      "Input sentence: What a pleasure!\n",
      "Decoded sentence: \tQuel prorler !\n",
      "\n",
      "\n",
      "\n",
      "\n",
      "\n",
      "\n",
      "-\n",
      "Input sentence: You're powerful.\n",
      "Decoded sentence: \tVuuss tes prieee\n",
      ".\n",
      "\n",
      "\n",
      "-\n",
      "Input sentence: It started to snow.\n",
      "Decoded sentence: \tCl me tri a rrrrr..\n",
      "\n",
      "-\n",
      "Input sentence: The mass is over.\n",
      "Decoded sentence: \tLa me ee est fur..\n",
      "\n",
      "\n",
      "-\n",
      "Input sentence: Follow me.\n",
      "Decoded sentence: \tSuis-Toi.\n",
      "\n",
      "\n",
      "\n",
      "ii.\n",
      "\n",
      "\n",
      "\n",
      "\n",
      "-\n",
      "Input sentence: That's enough.\n",
      "Decoded sentence: \tPr s euntaitant!\n",
      "\n",
      "\n",
      "\n",
      "\n",
      "-\n",
      "Input sentence: I need some.\n",
      "Decoded sentence: \tJ'an ai an banai.\n",
      "\n",
      "\n",
      "\n",
      "-\n",
      "Input sentence: Come and see me.\n",
      "Decoded sentence: \tVines de voi..\n",
      "\n",
      "\n",
      "\n",
      "\n",
      "\n",
      "\n",
      "-\n",
      "Input sentence: I've had enough.\n",
      "Decoded sentence: \tJ'en au au e riee..\n",
      "\n",
      "-\n",
      "Input sentence: Forgive me.\n",
      "Decoded sentence: \tPonnonnez-mon.\n",
      "\n",
      "\n",
      "\n",
      "\n",
      "\n",
      "\n",
      "-\n",
      "Input sentence: He plays very well.\n",
      "Decoded sentence: \tIl vout tous bien.\n",
      "\n",
      "\n",
      "-\n",
      "Input sentence: I already ate.\n",
      "Decoded sentence: \tJ'ai déjà cait.\n",
      "\n",
      ".\n",
      "\n",
      "\n",
      "-\n",
      "Input sentence: I want you.\n",
      "Decoded sentence: \tJe veuv vouv n\n",
      "\n",
      "\n",
      ".\n",
      "\n",
      "\n",
      "-\n",
      "Input sentence: They are exhausted.\n",
      "Decoded sentence: \tElles tont prueee..\n",
      "\n",
      "-\n",
      "Input sentence: Who did this?\n",
      "Decoded sentence: \tQui e tait ça ?\n",
      "?\n",
      "?\n",
      "\n",
      "-\n",
      "Input sentence: Tom wanted that.\n",
      "Decoded sentence: \tTom vautait car.\n",
      "\n",
      "\n",
      "\n",
      "\n",
      "-\n",
      "Input sentence: She is a twin.\n",
      "Decoded sentence: \tE'as este  aaite.\n",
      "\n",
      "\n",
      "\n",
      "-\n",
      "Input sentence: I am curious.\n",
      "Decoded sentence: \tJe suis furiuux.\n",
      "\n",
      "\n",
      "\n",
      "\n",
      "-\n",
      "Input sentence: Don't worry.\n",
      "Decoded sentence: \tTu n'ux e p pas.\n",
      "\n",
      "\n",
      "\n",
      "\n",
      "-\n",
      "Input sentence: Once again.\n",
      "Decoded sentence: \tOncoue ens cois.\n",
      "\n",
      "\n",
      "\n",
      "\n",
      "-\n",
      "Input sentence: Are you sleepy?\n",
      "Decoded sentence: \tEs-tu durele?\n",
      "\n",
      "\n",
      "?\n",
      "\n",
      "\n",
      "\n",
      "-\n",
      "Input sentence: Tom stole it.\n",
      "Decoded sentence: \tTom l'a l  r.\n",
      "\n",
      "\n",
      "\n",
      "\n",
      "\n",
      "\n",
      "\n",
      "-\n",
      "Input sentence: That won't work!\n",
      "Decoded sentence: \tÇa ne me ces pai.\n",
      "\n",
      "\n",
      "\n",
      "-\n",
      "Input sentence: How did it feel?\n",
      "Decoded sentence: \tQu'as-ceude tende ?\n",
      "\n",
      "-\n",
      "Input sentence: I'm sure.\n",
      "Decoded sentence: \tJ'en suis dûr.\n",
      "\n",
      "\n",
      "\n",
      "\n",
      "\n",
      "\n",
      "-\n",
      "Input sentence: It wasn't him.\n",
      "Decoded sentence: \tCe n'étais pas pai.\n",
      "\n",
      "-\n",
      "Input sentence: Be fair.\n",
      "Decoded sentence: \tSoyez plutet !\n",
      "\n",
      "\n",
      "\n",
      "\n",
      "\n",
      "\n",
      "-\n",
      "Input sentence: You're surrounded.\n",
      "Decoded sentence: \tVous êtes gen\n",
      "e.\n",
      "\n",
      "\n",
      "\n",
      "\n"
     ]
    }
   ],
   "source": [
    "for seq_index in range(30):\n",
    "    # Take one sequence (part of the training test)\n",
    "    # for trying out decoding.\n",
    "    input_seq = encoder_input_data[seq_index: seq_index + 1]\n",
    "    decoded_sentence = decode_sequence(input_seq)\n",
    "    #decoded_sentence = [np.argmax(vector) for vector in yhat]\n",
    "    print('-')\n",
    "    print('Input sentence:', input_texts[seq_index])\n",
    "    print('Decoded sentence:',decoded_sentence )"
   ]
  },
  {
   "cell_type": "code",
   "execution_count": null,
   "metadata": {
    "collapsed": true
   },
   "outputs": [],
   "source": []
  }
 ],
 "metadata": {
  "kernelspec": {
   "display_name": "Python 3",
   "language": "python",
   "name": "python3"
  },
  "language_info": {
   "codemirror_mode": {
    "name": "ipython",
    "version": 3
   },
   "file_extension": ".py",
   "mimetype": "text/x-python",
   "name": "python",
   "nbconvert_exporter": "python",
   "pygments_lexer": "ipython3",
   "version": "3.5.2"
  }
 },
 "nbformat": 4,
 "nbformat_minor": 2
}
